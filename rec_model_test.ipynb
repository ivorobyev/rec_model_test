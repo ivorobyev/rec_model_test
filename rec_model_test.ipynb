{
  "nbformat": 4,
  "nbformat_minor": 0,
  "metadata": {
    "colab": {
      "name": "rec_model_test.ipynb",
      "provenance": [],
      "collapsed_sections": []
    },
    "kernelspec": {
      "name": "python3",
      "display_name": "Python 3"
    },
    "accelerator": "GPU"
  },
  "cells": [
    {
      "cell_type": "code",
      "metadata": {
        "id": "SNw7SZpD14_U",
        "colab": {
          "base_uri": "https://localhost:8080/"
        },
        "outputId": "2bb8ba58-7078-4b12-b9a1-b8ba8e75442b"
      },
      "source": [
        "import pandas as pd\n",
        "import numpy as np\n",
        "from google.colab import drive\n",
        "from sklearn.utils.extmath import randomized_svd\n",
        "from sklearn.preprocessing import LabelEncoder\n",
        "\n",
        "drive.mount('/content/drive')\n",
        "\n",
        "products_df = pd.read_csv('products.csv')\n",
        "transactions_df =  pd.read_csv('/content/drive/My Drive/transactions.csv')\n",
        "\n",
        "user_product = transactions_df.groupby(['user_id', 'product_id'])['product_id'].count()\n",
        "user = transactions_df.groupby(['user_id'])['product_id'].count()\n",
        "\n",
        "g = pd.DataFrame(user_product.div(user, level='user_id')).add_suffix('_count').reset_index()\n",
        "\n",
        "le = LabelEncoder()\n",
        "g['user_id_num'] = le.fit_transform(g['user_id'])\n",
        "g['product_id_num'] = le.fit_transform(g['product_id'])"
      ],
      "execution_count": 1,
      "outputs": [
        {
          "output_type": "stream",
          "text": [
            "Mounted at /content/drive\n"
          ],
          "name": "stdout"
        }
      ]
    },
    {
      "cell_type": "code",
      "metadata": {
        "colab": {
          "base_uri": "https://localhost:8080/",
          "height": 419
        },
        "id": "juc6hSB_4wog",
        "outputId": "c0db39a6-0856-4e21-f297-02104e3f84bc"
      },
      "source": [
        "g[['user_id', 'user_id_num']].drop_duplicates().to_csv('users_meta.csv')\n",
        "g[['product_id', 'product_id_num']].drop_duplicates().to_csv('products_meta.csv')\n",
        "g[['user_id', 'user_id_num']].drop_duplicates()"
      ],
      "execution_count": 2,
      "outputs": [
        {
          "output_type": "execute_result",
          "data": {
            "text/html": [
              "<div>\n",
              "<style scoped>\n",
              "    .dataframe tbody tr th:only-of-type {\n",
              "        vertical-align: middle;\n",
              "    }\n",
              "\n",
              "    .dataframe tbody tr th {\n",
              "        vertical-align: top;\n",
              "    }\n",
              "\n",
              "    .dataframe thead th {\n",
              "        text-align: right;\n",
              "    }\n",
              "</style>\n",
              "<table border=\"1\" class=\"dataframe\">\n",
              "  <thead>\n",
              "    <tr style=\"text-align: right;\">\n",
              "      <th></th>\n",
              "      <th>user_id</th>\n",
              "      <th>user_id_num</th>\n",
              "    </tr>\n",
              "  </thead>\n",
              "  <tbody>\n",
              "    <tr>\n",
              "      <th>0</th>\n",
              "      <td>1</td>\n",
              "      <td>0</td>\n",
              "    </tr>\n",
              "    <tr>\n",
              "      <th>18</th>\n",
              "      <td>2</td>\n",
              "      <td>1</td>\n",
              "    </tr>\n",
              "    <tr>\n",
              "      <th>120</th>\n",
              "      <td>3</td>\n",
              "      <td>2</td>\n",
              "    </tr>\n",
              "    <tr>\n",
              "      <th>153</th>\n",
              "      <td>7</td>\n",
              "      <td>3</td>\n",
              "    </tr>\n",
              "    <tr>\n",
              "      <th>221</th>\n",
              "      <td>13</td>\n",
              "      <td>4</td>\n",
              "    </tr>\n",
              "    <tr>\n",
              "      <th>...</th>\n",
              "      <td>...</td>\n",
              "      <td>...</td>\n",
              "    </tr>\n",
              "    <tr>\n",
              "      <th>9458497</th>\n",
              "      <td>206202</td>\n",
              "      <td>99995</td>\n",
              "    </tr>\n",
              "    <tr>\n",
              "      <th>9458560</th>\n",
              "      <td>206206</td>\n",
              "      <td>99996</td>\n",
              "    </tr>\n",
              "    <tr>\n",
              "      <th>9458710</th>\n",
              "      <td>206207</td>\n",
              "      <td>99997</td>\n",
              "    </tr>\n",
              "    <tr>\n",
              "      <th>9458802</th>\n",
              "      <td>206208</td>\n",
              "      <td>99998</td>\n",
              "    </tr>\n",
              "    <tr>\n",
              "      <th>9458997</th>\n",
              "      <td>206209</td>\n",
              "      <td>99999</td>\n",
              "    </tr>\n",
              "  </tbody>\n",
              "</table>\n",
              "<p>100000 rows × 2 columns</p>\n",
              "</div>"
            ],
            "text/plain": [
              "         user_id  user_id_num\n",
              "0              1            0\n",
              "18             2            1\n",
              "120            3            2\n",
              "153            7            3\n",
              "221           13            4\n",
              "...          ...          ...\n",
              "9458497   206202        99995\n",
              "9458560   206206        99996\n",
              "9458710   206207        99997\n",
              "9458802   206208        99998\n",
              "9458997   206209        99999\n",
              "\n",
              "[100000 rows x 2 columns]"
            ]
          },
          "metadata": {
            "tags": []
          },
          "execution_count": 2
        }
      ]
    },
    {
      "cell_type": "code",
      "metadata": {
        "id": "mteYPtts2yDW",
        "colab": {
          "base_uri": "https://localhost:8080/"
        },
        "outputId": "cd5fa705-c132-42cd-baf2-8646f4cbddf9"
      },
      "source": [
        "from keras.models import Model, Sequential\n",
        "from keras.layers import Embedding, Flatten, Input, concatenate, Dropout, Dense, dot, BatchNormalization, Add\n",
        "from keras.optimizers import Adam\n",
        "from IPython.display import SVG\n",
        "from keras.utils.vis_utils import model_to_dot\n",
        "import pydot\n",
        "\n",
        "#строим модель NCF (neural collaborative filtering) paper: https://arxiv.org/pdf/1708.05031.pdf\n",
        "\n",
        "num_users = len(g.user_id_num.unique())\n",
        "num_product = len(g.product_id_num.unique())\n",
        "\n",
        "latent_dim = 10\n",
        "\n",
        "product_input = Input(shape=[1],name='product-input')\n",
        "user_input = Input(shape=[1], name='user-input')\n",
        "\n",
        "product_embedding_mlp = Embedding(num_product + 1, latent_dim, name='product-embedding-mlp')(product_input)\n",
        "product_vec_mlp = Flatten(name='flatten-product-mlp')(product_embedding_mlp)\n",
        "\n",
        "user_embedding_mlp = Embedding(num_users + 1, latent_dim, name='user-embedding-mlp')(user_input)\n",
        "user_vec_mlp = Flatten(name='flatten-user-mlp')(user_embedding_mlp)\n",
        "\n",
        "product_embedding_mf = Embedding(num_product + 1, latent_dim, name='product-embedding-mf')(product_input)\n",
        "product_vec_mf = Flatten(name='flatten-product-mf')(product_embedding_mf)\n",
        "\n",
        "user_embedding_mf = Embedding(num_users + 1, latent_dim, name='user-embedding-mf')(user_input)\n",
        "user_vec_mf = Flatten(name='flatten-user-mf')(user_embedding_mf)\n",
        "\n",
        "concat = concatenate([product_vec_mlp, user_vec_mlp], name='concat')\n",
        "concat_dropout = Dropout(0.2)(concat)\n",
        "fc_1 = Dense(100, name='fc-1', activation='relu')(concat_dropout)\n",
        "fc_1_bn = BatchNormalization(name='batch-norm-1')(fc_1)\n",
        "fc_1_dropout = Dropout(0.2)(fc_1_bn)\n",
        "fc_2 = Dense(50, name='fc-2', activation='relu')(fc_1_dropout)\n",
        "fc_2_bn = BatchNormalization(name='batch-norm-2')(fc_2)\n",
        "fc_2_dropout = Dropout(0.2)(fc_2_bn)\n",
        "\n",
        "pred_mlp = Dense(10, name='pred-mlp', activation='relu')(fc_2_dropout)\n",
        "pred_mf = dot([product_vec_mf, user_vec_mf], normalize = False, axes = -1, name='pred-mf')\n",
        "combine_mlp_mf = concatenate([pred_mf, pred_mlp], name='combine-mlp-mf')\n",
        "\n",
        "result = Dense(1, name='result', activation='sigmoid')(combine_mlp_mf)\n",
        "\n",
        "model = Model([user_input, product_input], result)\n",
        "model.compile(optimizer=Adam(lr=0.0001), loss='mean_absolute_error')\n",
        "model.summary()"
      ],
      "execution_count": 6,
      "outputs": [
        {
          "output_type": "stream",
          "text": [
            "Model: \"model_2\"\n",
            "__________________________________________________________________________________________________\n",
            "Layer (type)                    Output Shape         Param #     Connected to                     \n",
            "==================================================================================================\n",
            "product-input (InputLayer)      [(None, 1)]          0                                            \n",
            "__________________________________________________________________________________________________\n",
            "user-input (InputLayer)         [(None, 1)]          0                                            \n",
            "__________________________________________________________________________________________________\n",
            "product-embedding-mlp (Embeddin (None, 1, 10)        494660      product-input[0][0]              \n",
            "__________________________________________________________________________________________________\n",
            "user-embedding-mlp (Embedding)  (None, 1, 10)        1000010     user-input[0][0]                 \n",
            "__________________________________________________________________________________________________\n",
            "flatten-product-mlp (Flatten)   (None, 10)           0           product-embedding-mlp[0][0]      \n",
            "__________________________________________________________________________________________________\n",
            "flatten-user-mlp (Flatten)      (None, 10)           0           user-embedding-mlp[0][0]         \n",
            "__________________________________________________________________________________________________\n",
            "concat (Concatenate)            (None, 20)           0           flatten-product-mlp[0][0]        \n",
            "                                                                 flatten-user-mlp[0][0]           \n",
            "__________________________________________________________________________________________________\n",
            "dropout_6 (Dropout)             (None, 20)           0           concat[0][0]                     \n",
            "__________________________________________________________________________________________________\n",
            "fc-1 (Dense)                    (None, 100)          2100        dropout_6[0][0]                  \n",
            "__________________________________________________________________________________________________\n",
            "batch-norm-1 (BatchNormalizatio (None, 100)          400         fc-1[0][0]                       \n",
            "__________________________________________________________________________________________________\n",
            "dropout_7 (Dropout)             (None, 100)          0           batch-norm-1[0][0]               \n",
            "__________________________________________________________________________________________________\n",
            "fc-2 (Dense)                    (None, 50)           5050        dropout_7[0][0]                  \n",
            "__________________________________________________________________________________________________\n",
            "product-embedding-mf (Embedding (None, 1, 10)        494660      product-input[0][0]              \n",
            "__________________________________________________________________________________________________\n",
            "user-embedding-mf (Embedding)   (None, 1, 10)        1000010     user-input[0][0]                 \n",
            "__________________________________________________________________________________________________\n",
            "batch-norm-2 (BatchNormalizatio (None, 50)           200         fc-2[0][0]                       \n",
            "__________________________________________________________________________________________________\n",
            "flatten-product-mf (Flatten)    (None, 10)           0           product-embedding-mf[0][0]       \n",
            "__________________________________________________________________________________________________\n",
            "flatten-user-mf (Flatten)       (None, 10)           0           user-embedding-mf[0][0]          \n",
            "__________________________________________________________________________________________________\n",
            "dropout_8 (Dropout)             (None, 50)           0           batch-norm-2[0][0]               \n",
            "__________________________________________________________________________________________________\n",
            "pred-mf (Dot)                   (None, 1)            0           flatten-product-mf[0][0]         \n",
            "                                                                 flatten-user-mf[0][0]            \n",
            "__________________________________________________________________________________________________\n",
            "pred-mlp (Dense)                (None, 10)           510         dropout_8[0][0]                  \n",
            "__________________________________________________________________________________________________\n",
            "combine-mlp-mf (Concatenate)    (None, 11)           0           pred-mf[0][0]                    \n",
            "                                                                 pred-mlp[0][0]                   \n",
            "__________________________________________________________________________________________________\n",
            "result (Dense)                  (None, 1)            12          combine-mlp-mf[0][0]             \n",
            "==================================================================================================\n",
            "Total params: 2,997,612\n",
            "Trainable params: 2,997,312\n",
            "Non-trainable params: 300\n",
            "__________________________________________________________________________________________________\n"
          ],
          "name": "stdout"
        }
      ]
    },
    {
      "cell_type": "code",
      "metadata": {
        "id": "yeOYKnWjBPmI",
        "colab": {
          "base_uri": "https://localhost:8080/",
          "height": 1000
        },
        "outputId": "62d846f5-a993-40a6-f0c1-e2397e285ccb"
      },
      "source": [
        "from sklearn.model_selection import train_test_split\n",
        "import matplotlib.pyplot as plt\n",
        "from sklearn.metrics import mean_absolute_error\n",
        "\n",
        "X_train, X_test = train_test_split(g,test_size=0.3,random_state=42)\n",
        "\n",
        "history = model.fit([X_train.user_id_num, X_train.product_id_num], \n",
        "                     X_train.product_id_count, \n",
        "                     batch_size = 30000,\n",
        "                    validation_data = ([X_train.user_id_num, X_train.product_id_num], \n",
        "                     X_train.product_id_count),\n",
        "                     epochs=30)\n",
        "pd.Series(history.history['loss']).plot(logy=True)\n",
        "plt.xlabel(\"Epoch\")\n",
        "plt.ylabel(\"Train Error\")\n",
        "plt.show()\n",
        "\n",
        "y_hat = np.round(model.predict([X_test.user_id_num, X_test.product_id_num]), decimals=2)\n",
        "y_true = X_test.product_id_count\n",
        "mean_absolute_error(y_true, y_hat)"
      ],
      "execution_count": 7,
      "outputs": [
        {
          "output_type": "stream",
          "text": [
            "Epoch 1/30\n",
            "221/221 [==============================] - 15s 62ms/step - loss: 0.4936 - val_loss: 0.4125\n",
            "Epoch 2/30\n",
            "221/221 [==============================] - 13s 60ms/step - loss: 0.1995 - val_loss: 0.1861\n",
            "Epoch 3/30\n",
            "221/221 [==============================] - 13s 61ms/step - loss: 0.0810 - val_loss: 0.0429\n",
            "Epoch 4/30\n",
            "221/221 [==============================] - 13s 59ms/step - loss: 0.0364 - val_loss: 0.0147\n",
            "Epoch 5/30\n",
            "221/221 [==============================] - 14s 61ms/step - loss: 0.0205 - val_loss: 0.0097\n",
            "Epoch 6/30\n",
            "221/221 [==============================] - 13s 60ms/step - loss: 0.0142 - val_loss: 0.0083\n",
            "Epoch 7/30\n",
            "221/221 [==============================] - 14s 61ms/step - loss: 0.0114 - val_loss: 0.0078\n",
            "Epoch 8/30\n",
            "221/221 [==============================] - 13s 61ms/step - loss: 0.0101 - val_loss: 0.0078\n",
            "Epoch 9/30\n",
            "221/221 [==============================] - 13s 61ms/step - loss: 0.0094 - val_loss: 0.0078\n",
            "Epoch 10/30\n",
            "221/221 [==============================] - 13s 60ms/step - loss: 0.0091 - val_loss: 0.0078\n",
            "Epoch 11/30\n",
            "221/221 [==============================] - 13s 60ms/step - loss: 0.0088 - val_loss: 0.0079\n",
            "Epoch 12/30\n",
            "221/221 [==============================] - 13s 59ms/step - loss: 0.0087 - val_loss: 0.0079\n",
            "Epoch 13/30\n",
            "221/221 [==============================] - 13s 61ms/step - loss: 0.0086 - val_loss: 0.0080\n",
            "Epoch 14/30\n",
            "221/221 [==============================] - 13s 60ms/step - loss: 0.0086 - val_loss: 0.0080\n",
            "Epoch 15/30\n",
            "221/221 [==============================] - 13s 61ms/step - loss: 0.0085 - val_loss: 0.0080\n",
            "Epoch 16/30\n",
            "221/221 [==============================] - 13s 61ms/step - loss: 0.0085 - val_loss: 0.0080\n",
            "Epoch 17/30\n",
            "221/221 [==============================] - 13s 61ms/step - loss: 0.0084 - val_loss: 0.0079\n",
            "Epoch 18/30\n",
            "221/221 [==============================] - 14s 61ms/step - loss: 0.0084 - val_loss: 0.0079\n",
            "Epoch 19/30\n",
            "221/221 [==============================] - 13s 60ms/step - loss: 0.0084 - val_loss: 0.0079\n",
            "Epoch 20/30\n",
            "221/221 [==============================] - 14s 61ms/step - loss: 0.0083 - val_loss: 0.0078\n",
            "Epoch 21/30\n",
            "221/221 [==============================] - 13s 59ms/step - loss: 0.0083 - val_loss: 0.0078\n",
            "Epoch 22/30\n",
            "221/221 [==============================] - 14s 62ms/step - loss: 0.0083 - val_loss: 0.0077\n",
            "Epoch 23/30\n",
            "221/221 [==============================] - 13s 60ms/step - loss: 0.0082 - val_loss: 0.0077\n",
            "Epoch 24/30\n",
            "221/221 [==============================] - 13s 61ms/step - loss: 0.0082 - val_loss: 0.0076\n",
            "Epoch 25/30\n",
            "221/221 [==============================] - 13s 60ms/step - loss: 0.0081 - val_loss: 0.0076\n",
            "Epoch 26/30\n",
            "221/221 [==============================] - 13s 61ms/step - loss: 0.0081 - val_loss: 0.0075\n",
            "Epoch 27/30\n",
            "221/221 [==============================] - 13s 60ms/step - loss: 0.0080 - val_loss: 0.0074\n",
            "Epoch 28/30\n",
            "221/221 [==============================] - 13s 61ms/step - loss: 0.0080 - val_loss: 0.0073\n",
            "Epoch 29/30\n",
            "221/221 [==============================] - 14s 61ms/step - loss: 0.0079 - val_loss: 0.0072\n",
            "Epoch 30/30\n",
            "221/221 [==============================] - 13s 59ms/step - loss: 0.0078 - val_loss: 0.0071\n"
          ],
          "name": "stdout"
        },
        {
          "output_type": "display_data",
          "data": {
            "image/png": "[encoded data removed]",
            "text/plain": [
              "<Figure size 432x288 with 1 Axes>"
            ]
          },
          "metadata": {
            "tags": [],
            "needs_background": "light"
          }
        },
        {
          "output_type": "execute_result",
          "data": {
            "text/plain": [
              "0.008877970901838214"
            ]
          },
          "metadata": {
            "tags": []
          },
          "execution_count": 7
        }
      ]
    },
    {
      "cell_type": "code",
      "metadata": {
        "id": "7yW9qKmLcsRm"
      },
      "source": [
        "model.save('ncf.h5')"
      ],
      "execution_count": 8,
      "outputs": []
    }
  ]
}